{
  "nbformat": 4,
  "nbformat_minor": 0,
  "metadata": {
    "colab": {
      "provenance": [],
      "authorship_tag": "ABX9TyPBvl4+X/kMBqAkdJiOeqLK",
      "include_colab_link": true
    },
    "kernelspec": {
      "name": "python3",
      "display_name": "Python 3"
    },
    "language_info": {
      "name": "python"
    }
  },
  "cells": [
    {
      "cell_type": "markdown",
      "metadata": {
        "id": "view-in-github",
        "colab_type": "text"
      },
      "source": [
        "<a href=\"https://colab.research.google.com/github/arlan-kbtu/ads/blob/master/lab3.ipynb\" target=\"_parent\"><img src=\"https://colab.research.google.com/assets/colab-badge.svg\" alt=\"Open In Colab\"/></a>"
      ]
    },
    {
      "cell_type": "markdown",
      "source": [
        "task #1.1"
      ],
      "metadata": {
        "id": "Xq9cSAgfz-8B"
      }
    },
    {
      "cell_type": "code",
      "source": [
        "class StringManipulator:\n",
        "    def __init__(self):\n",
        "        self.str = \"\"\n",
        "\n",
        "    def getString(self):\n",
        "        self.str = input(\"Enter a string: \")\n",
        "\n",
        "    def printString(self):\n",
        "        print(\"Uppercase String:\", self.str.upper())"
      ],
      "metadata": {
        "id": "QwWF5Rs3xaxN"
      },
      "execution_count": null,
      "outputs": []
    },
    {
      "cell_type": "markdown",
      "source": [
        "1.2"
      ],
      "metadata": {
        "id": "6SBgOnZn0BIm"
      }
    },
    {
      "cell_type": "code",
      "source": [
        "class Shape:\n",
        "    def area(self):\n",
        "        return 0\n",
        "\n",
        "class Square(Shape):\n",
        "    def __init__(self, length):\n",
        "        self.length = length\n",
        "\n",
        "    def area(self):\n",
        "        return self.length ** 2"
      ],
      "metadata": {
        "id": "nkHieWwWzj1n"
      },
      "execution_count": null,
      "outputs": []
    },
    {
      "cell_type": "markdown",
      "source": [
        "1.3"
      ],
      "metadata": {
        "id": "cBPG2Z1s0Buo"
      }
    },
    {
      "cell_type": "code",
      "source": [
        "class Rectangle(Shape):\n",
        "    def __init__(self, length, width):\n",
        "        self.length = length\n",
        "        self.width = width\n",
        "\n",
        "    def area(self):\n",
        "        return self.length * self.width"
      ],
      "metadata": {
        "id": "PxDdIr2OzoOl"
      },
      "execution_count": null,
      "outputs": []
    },
    {
      "cell_type": "markdown",
      "source": [
        "1.4"
      ],
      "metadata": {
        "id": "fnIzXRU40CbO"
      }
    },
    {
      "cell_type": "code",
      "source": [
        "class Point:\n",
        "    def __init__(self, x, y):\n",
        "        self.x = x\n",
        "        self.y = y\n",
        "\n",
        "    def show(self):\n",
        "        print(f\"Point({self.x}, {self.y})\")\n",
        "\n",
        "    def move(self, new_x, new_y):\n",
        "        self.x = new_x\n",
        "        self.y = new_y\n",
        "\n",
        "    def dist(self, other_point):\n",
        "        return ((self.x - other_point.x) ** 2 + (self.y - other_point.y) ** 2) ** 0.5\n"
      ],
      "metadata": {
        "id": "t81ML3nnzqiI"
      },
      "execution_count": null,
      "outputs": []
    },
    {
      "cell_type": "markdown",
      "source": [
        "1.5"
      ],
      "metadata": {
        "id": "puUVJ1XF0DF6"
      }
    },
    {
      "cell_type": "code",
      "source": [
        "class Account:\n",
        "    def __init__(self, owner, balance=0):\n",
        "        self.owner = owner\n",
        "        self.balance = balance\n",
        "\n",
        "    def deposit(self, amount):\n",
        "        self.balance += amount\n",
        "        print(f\"Deposited {amount}. New balance: {self.balance}\")\n",
        "\n",
        "    def withdraw(self, amount):\n",
        "        if amount > self.balance:\n",
        "            print(\"Insufficient balance!\")\n",
        "        else:\n",
        "            self.balance -= amount\n",
        "            print(f\"Withdrew {amount}. New balance: {self.balance}\")"
      ],
      "metadata": {
        "id": "T-gLPWGXzsj7"
      },
      "execution_count": null,
      "outputs": []
    },
    {
      "cell_type": "markdown",
      "source": [
        "1.6"
      ],
      "metadata": {
        "id": "m76xxMia0DnO"
      }
    },
    {
      "cell_type": "code",
      "source": [
        "if __name__ == \"__main__\":\n",
        "    sm = StringManipulator()\n",
        "    sm.getString()\n",
        "    sm.printString()\n",
        "\n",
        "    square = Square(4)\n",
        "    print(\"Square Area:\", square.area())\n",
        "\n",
        "    rectangle = Rectangle(4, 5)\n",
        "    print(\"Rectangle Area:\", rectangle.area())\n",
        "\n",
        "    p1 = Point(1, 2)\n",
        "    p2 = Point(4, 6)\n",
        "    p1.show()\n",
        "    print(\"Distance:\", p1.dist(p2))\n",
        "\n",
        "    acc = Account(\"John\", 100)\n",
        "    acc.deposit(50)\n",
        "    acc.withdraw(200)\n",
        "    acc.withdraw(50)\n",
        "\n",
        "    numbers = [1, 2, 3, 4, 5, 6, 7, 8, 9, 10]\n",
        "    print(\"Prime Numbers:\", filter_primes(numbers))"
      ],
      "metadata": {
        "id": "iUCF5zV3zwYe"
      },
      "execution_count": null,
      "outputs": []
    },
    {
      "cell_type": "markdown",
      "source": [
        "task #2.1"
      ],
      "metadata": {
        "id": "Y6SRe4uJ4f-a"
      }
    },
    {
      "cell_type": "code",
      "source": [
        "def grams_to_ounces(grams):\n",
        "    return grams * 28.3495231"
      ],
      "metadata": {
        "id": "5Gvhe_LuzznF"
      },
      "execution_count": 51,
      "outputs": []
    },
    {
      "cell_type": "markdown",
      "source": [
        "2.2\n"
      ],
      "metadata": {
        "id": "whNGJh294zmQ"
      }
    },
    {
      "cell_type": "code",
      "source": [
        "def fahrenheit_to_celsius(fahrenheit):\n",
        "    return (5 / 9) * (fahrenheit - 32)"
      ],
      "metadata": {
        "id": "VKBmbt4H3VCe"
      },
      "execution_count": 52,
      "outputs": []
    },
    {
      "cell_type": "markdown",
      "source": [
        "2.3"
      ],
      "metadata": {
        "id": "ELJ8ixRp43xs"
      }
    },
    {
      "cell_type": "code",
      "source": [
        "def solve(numheads, numlegs):\n",
        "    rabbits = (numlegs - (numheads * 2)) // 2\n",
        "    chickens = numheads - rabbits\n",
        "    return chickens, rabbits"
      ],
      "metadata": {
        "id": "SM5rN0Mc4lMF"
      },
      "execution_count": 53,
      "outputs": []
    },
    {
      "cell_type": "markdown",
      "source": [
        "2.4"
      ],
      "metadata": {
        "id": "KlyIB5Qs44bP"
      }
    },
    {
      "cell_type": "code",
      "source": [
        "def is_prime(n):\n",
        "    if n < 2:\n",
        "        return False\n",
        "    for i in range(2, int(n ** 0.5) + 1):\n",
        "        if n % i == 0:\n",
        "            return False\n",
        "    return True\n",
        "\n",
        "def filter_prime(numbers):\n",
        "    return list(filter(is_prime, numbers))"
      ],
      "metadata": {
        "id": "KeccFfxG4nYf"
      },
      "execution_count": 54,
      "outputs": []
    },
    {
      "cell_type": "markdown",
      "source": [
        "2.5"
      ],
      "metadata": {
        "id": "mm5te7nS45Wk"
      }
    },
    {
      "cell_type": "code",
      "source": [
        "from itertools import permutations\n",
        "\n",
        "def string_permutations(s):\n",
        "    return [''.join(p) for p in permutations(s)]"
      ],
      "metadata": {
        "id": "I_raBQs44p68"
      },
      "execution_count": 55,
      "outputs": []
    },
    {
      "cell_type": "markdown",
      "source": [
        "2.6"
      ],
      "metadata": {
        "id": "uBeAbFUi46Kb"
      }
    },
    {
      "cell_type": "code",
      "source": [
        "def reverse_sentence(sentence):\n",
        "    return ' '.join(sentence.split()[::-1])"
      ],
      "metadata": {
        "id": "k7lhp0rs4s0s"
      },
      "execution_count": 56,
      "outputs": []
    },
    {
      "cell_type": "markdown",
      "source": [
        "2.7"
      ],
      "metadata": {
        "id": "FFMWrHYq47AS"
      }
    },
    {
      "cell_type": "code",
      "source": [
        "def has_33(nums):\n",
        "    for i in range(len(nums) - 1):\n",
        "        if nums[i] == 3 and nums[i + 1] == 3:\n",
        "            return True\n",
        "    return False"
      ],
      "metadata": {
        "id": "230TAwap4vQF"
      },
      "execution_count": 57,
      "outputs": []
    },
    {
      "cell_type": "markdown",
      "source": [
        "2.8"
      ],
      "metadata": {
        "id": "6v66IrEb47_o"
      }
    },
    {
      "cell_type": "code",
      "source": [
        "def spy_game(nums):\n",
        "    code = [0, 0, 7]\n",
        "    for num in nums:\n",
        "        if num == code[0]:\n",
        "            code.pop(0)\n",
        "        if not code:\n",
        "            return True\n",
        "    return False"
      ],
      "metadata": {
        "id": "QfDeRjLs4xA1"
      },
      "execution_count": 58,
      "outputs": []
    },
    {
      "cell_type": "markdown",
      "source": [
        "2.9"
      ],
      "metadata": {
        "id": "5aQ0uSD_5cPX"
      }
    },
    {
      "cell_type": "code",
      "source": [
        "import math\n",
        "\n",
        "def sphere_volume(radius):\n",
        "    return (4/3) * math.pi * (radius ** 3)"
      ],
      "metadata": {
        "id": "kcvq2Vsx4yrQ"
      },
      "execution_count": 59,
      "outputs": []
    },
    {
      "cell_type": "markdown",
      "source": [
        "2.10"
      ],
      "metadata": {
        "id": "5__OC87e5dCL"
      }
    },
    {
      "cell_type": "code",
      "source": [
        "def unique_list(lst):\n",
        "    unique = []\n",
        "    for item in lst:\n",
        "        if item not in unique:\n",
        "            unique.append(item)\n",
        "    return unique"
      ],
      "metadata": {
        "id": "FKUYsRd55Ms4"
      },
      "execution_count": 60,
      "outputs": []
    },
    {
      "cell_type": "markdown",
      "source": [
        "2.11\n"
      ],
      "metadata": {
        "id": "ZCB7s3755eI8"
      }
    },
    {
      "cell_type": "code",
      "source": [
        "def is_palindrome(word):\n",
        "    return word == word[::-1]"
      ],
      "metadata": {
        "id": "zyUVQTJa5OGB"
      },
      "execution_count": 62,
      "outputs": []
    },
    {
      "cell_type": "markdown",
      "source": [
        "2.12"
      ],
      "metadata": {
        "id": "j0aT5P5u5fBk"
      }
    },
    {
      "cell_type": "code",
      "source": [
        "def histogram(lst):\n",
        "    for num in lst:\n",
        "        print('*' * num)"
      ],
      "metadata": {
        "id": "AH7TBXHI5QKE"
      },
      "execution_count": 63,
      "outputs": []
    },
    {
      "cell_type": "markdown",
      "source": [
        "2.13"
      ],
      "metadata": {
        "id": "R6lvYoDz5x72"
      }
    },
    {
      "cell_type": "code",
      "source": [
        "import random\n",
        "\n",
        "def guess_the_number():\n",
        "    name = input(\"Hello! What is your name? \")\n",
        "    number = random.randint(1, 20)\n",
        "    print(f\"Well, {name}, I am thinking of a number between 1 and 20.\")\n",
        "    attempts = 0\n",
        "\n",
        "    while True:\n",
        "        guess = int(input(\"Take a guess. \"))\n",
        "        attempts += 1\n",
        "        if guess < number:\n",
        "            print(\"Your guess is too low.\")\n",
        "        elif guess > number:\n",
        "            print(\"Your guess is too high.\")\n",
        "        else:\n",
        "            print(f\"Good job, {name}! You guessed my number in {attempts} guesses!\")\n",
        "            break"
      ],
      "metadata": {
        "id": "7DlXzxAu5TDg"
      },
      "execution_count": 64,
      "outputs": []
    },
    {
      "cell_type": "markdown",
      "source": [
        "task #3"
      ],
      "metadata": {
        "id": "h2Rsnory8ypv"
      }
    },
    {
      "cell_type": "code",
      "source": [
        "movies = [\n",
        "    {\"name\": \"Usual Suspects\", \"imdb\": 7.0, \"category\": \"Thriller\"},\n",
        "    {\"name\": \"Hitman\", \"imdb\": 6.3, \"category\": \"Action\"},\n",
        "    {\"name\": \"Dark Knight\", \"imdb\": 9.0, \"category\": \"Adventure\"},\n",
        "    {\"name\": \"The Help\", \"imdb\": 8.0, \"category\": \"Drama\"},\n",
        "    {\"name\": \"The Choice\", \"imdb\": 6.2, \"category\": \"Romance\"},\n",
        "    {\"name\": \"Colonia\", \"imdb\": 7.4, \"category\": \"Romance\"},\n",
        "    {\"name\": \"Love\", \"imdb\": 6.0, \"category\": \"Romance\"},\n",
        "    {\"name\": \"Bride Wars\", \"imdb\": 5.4, \"category\": \"Romance\"},\n",
        "    {\"name\": \"AlphaJet\", \"imdb\": 3.2, \"category\": \"War\"},\n",
        "    {\"name\": \"Ringing Crime\", \"imdb\": 4.0, \"category\": \"Crime\"},\n",
        "    {\"name\": \"Joking muck\", \"imdb\": 7.2, \"category\": \"Comedy\"},\n",
        "    {\"name\": \"What is the name\", \"imdb\": 9.2, \"category\": \"Suspense\"},\n",
        "    {\"name\": \"Detective\", \"imdb\": 7.0, \"category\": \"Suspense\"},\n",
        "    {\"name\": \"Exam\", \"imdb\": 4.2, \"category\": \"Thriller\"},\n",
        "    {\"name\": \"We Two\", \"imdb\": 7.2, \"category\": \"Romance\"}\n",
        "]\n",
        "\n",
        "def is_above_5_5(movie):\n",
        "    return movie[\"imdb\"] > 5.5\n",
        "\n",
        "def movies_above_5_5(movies):\n",
        "    return [movie for movie in movies if movie[\"imdb\"] > 5.5]\n",
        "\n",
        "def movies_by_category(movies, category):\n",
        "    return [movie for movie in movies if movie[\"category\"] == category]\n",
        "\n",
        "def average_imdb_score(movies):\n",
        "    if not movies:\n",
        "        return 0\n",
        "    total_score = sum(movie[\"imdb\"] for movie in movies)\n",
        "    return total_score / len(movies)\n",
        "\n",
        "def average_imdb_score_by_category(movies, category):\n",
        "    category_movies = movies_by_category(movies, category)\n",
        "    return average_imdb_score(category_movies)\n",
        "\n",
        "# Example usage:\n",
        "print(is_above_5_5(movies[0]))  # Output: True\n",
        "print(movies_above_5_5(movies))\n",
        "print(movies_by_category(movies, \"Romance\"))\n",
        "print(average_imdb_score(movies))\n",
        "print(average_imdb_score_by_category(movies, \"Romance\"))"
      ],
      "metadata": {
        "colab": {
          "base_uri": "https://localhost:8080/"
        },
        "id": "ndCbtTra85Z5",
        "outputId": "b05d6970-a19f-4eaa-c895-0f4aa10561a1"
      },
      "execution_count": 71,
      "outputs": [
        {
          "output_type": "stream",
          "name": "stdout",
          "text": [
            "True\n",
            "[{'name': 'Usual Suspects', 'imdb': 7.0, 'category': 'Thriller'}, {'name': 'Hitman', 'imdb': 6.3, 'category': 'Action'}, {'name': 'Dark Knight', 'imdb': 9.0, 'category': 'Adventure'}, {'name': 'The Help', 'imdb': 8.0, 'category': 'Drama'}, {'name': 'The Choice', 'imdb': 6.2, 'category': 'Romance'}, {'name': 'Colonia', 'imdb': 7.4, 'category': 'Romance'}, {'name': 'Love', 'imdb': 6.0, 'category': 'Romance'}, {'name': 'Joking muck', 'imdb': 7.2, 'category': 'Comedy'}, {'name': 'What is the name', 'imdb': 9.2, 'category': 'Suspense'}, {'name': 'Detective', 'imdb': 7.0, 'category': 'Suspense'}, {'name': 'We Two', 'imdb': 7.2, 'category': 'Romance'}]\n",
            "[{'name': 'The Choice', 'imdb': 6.2, 'category': 'Romance'}, {'name': 'Colonia', 'imdb': 7.4, 'category': 'Romance'}, {'name': 'Love', 'imdb': 6.0, 'category': 'Romance'}, {'name': 'Bride Wars', 'imdb': 5.4, 'category': 'Romance'}, {'name': 'We Two', 'imdb': 7.2, 'category': 'Romance'}]\n",
            "6.486666666666667\n",
            "6.44\n"
          ]
        }
      ]
    },
    {
      "cell_type": "code",
      "source": [],
      "metadata": {
        "id": "EQcrrwse9ELo"
      },
      "execution_count": null,
      "outputs": []
    }
  ]
}