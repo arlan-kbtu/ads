{
  "nbformat": 4,
  "nbformat_minor": 0,
  "metadata": {
    "colab": {
      "provenance": [],
      "authorship_tag": "ABX9TyOpOQh3YCyQc9elt+RpjoMi",
      "include_colab_link": true
    },
    "kernelspec": {
      "name": "python3",
      "display_name": "Python 3"
    },
    "language_info": {
      "name": "python"
    }
  },
  "cells": [
    {
      "cell_type": "markdown",
      "metadata": {
        "id": "view-in-github",
        "colab_type": "text"
      },
      "source": [
        "<a href=\"https://colab.research.google.com/github/arlan-kbtu/ads/blob/master/lab6.ipynb\" target=\"_parent\"><img src=\"https://colab.research.google.com/assets/colab-badge.svg\" alt=\"Open In Colab\"/></a>"
      ]
    },
    {
      "cell_type": "markdown",
      "source": [
        "Multiply all numbers in a list"
      ],
      "metadata": {
        "id": "2ElH2JtRdbrb"
      }
    },
    {
      "cell_type": "code",
      "execution_count": 1,
      "metadata": {
        "colab": {
          "base_uri": "https://localhost:8080/"
        },
        "id": "WfuQxbOddYh9",
        "outputId": "6b1a559d-f400-4eb2-906b-46d92e46be48"
      },
      "outputs": [
        {
          "output_type": "stream",
          "name": "stdout",
          "text": [
            "Product of numbers: 120\n"
          ]
        }
      ],
      "source": [
        "from functools import reduce\n",
        "\n",
        "numbers = [2, 3, 4, 5]\n",
        "result = reduce(lambda x, y: x * y, numbers)\n",
        "print(\"Product of numbers:\", result)\n"
      ]
    },
    {
      "cell_type": "markdown",
      "source": [
        "Count uppercase and lowercase letters"
      ],
      "metadata": {
        "id": "vK2LdgEgdjaM"
      }
    },
    {
      "cell_type": "code",
      "source": [
        "def count_case(s):\n",
        "    upper = sum(1 for c in s if c.isupper())\n",
        "    lower = sum(1 for c in s if c.islower())\n",
        "    return upper, lower\n",
        "\n",
        "text = \"Hello World\"\n",
        "upper, lower = count_case(text)\n",
        "print(\"Uppercase letters:\", upper)\n",
        "print(\"Lowercase letters:\", lower)\n"
      ],
      "metadata": {
        "colab": {
          "base_uri": "https://localhost:8080/"
        },
        "id": "3J1KV_R6de6F",
        "outputId": "154befa7-5c2f-4e91-b780-580867ef4120"
      },
      "execution_count": 2,
      "outputs": [
        {
          "output_type": "stream",
          "name": "stdout",
          "text": [
            "Uppercase letters: 2\n",
            "Lowercase letters: 8\n"
          ]
        }
      ]
    },
    {
      "cell_type": "markdown",
      "source": [
        "Check if a string is a palindrome"
      ],
      "metadata": {
        "id": "WoCVTCUwdwuW"
      }
    },
    {
      "cell_type": "code",
      "source": [
        "def is_palindrome(s):\n",
        "    return s == s[::-1]\n",
        "\n",
        "word = \"madam\"\n",
        "print(\"Is palindrome:\", is_palindrome(word))\n"
      ],
      "metadata": {
        "colab": {
          "base_uri": "https://localhost:8080/"
        },
        "id": "0FOpQMZBdj8n",
        "outputId": "8356de2b-89db-48e2-fe20-68c72cbab0e0"
      },
      "execution_count": 3,
      "outputs": [
        {
          "output_type": "stream",
          "name": "stdout",
          "text": [
            "Is palindrome: True\n"
          ]
        }
      ]
    },
    {
      "cell_type": "markdown",
      "source": [
        " Compute square root after a delay"
      ],
      "metadata": {
        "id": "Lu5av9SRd0Gw"
      }
    },
    {
      "cell_type": "code",
      "source": [
        "\n",
        "import time\n",
        "import math\n",
        "\n",
        "num = 25100\n",
        "delay = 2123  # in milliseconds\n",
        "\n",
        "time.sleep(delay / 1000)  # Convert to seconds\n",
        "print(f\"Square root of {num} after {delay} milliseconds is {math.sqrt(num)}\")\n"
      ],
      "metadata": {
        "colab": {
          "base_uri": "https://localhost:8080/"
        },
        "id": "4Y2cK0qpdoHT",
        "outputId": "fcc3e2e5-e1ef-467d-fcb6-f6314e3fbe29"
      },
      "execution_count": 4,
      "outputs": [
        {
          "output_type": "stream",
          "name": "stdout",
          "text": [
            "Square root of 25100 after 2123 milliseconds is 158.42979517754858\n"
          ]
        }
      ]
    },
    {
      "cell_type": "markdown",
      "source": [
        "Check if all elements in a tuple are true"
      ],
      "metadata": {
        "id": "ErBoUfDoeDg4"
      }
    },
    {
      "cell_type": "code",
      "source": [
        "values = (True, True, False)\n",
        "print(\"All elements are true:\", all(values))\n"
      ],
      "metadata": {
        "colab": {
          "base_uri": "https://localhost:8080/"
        },
        "id": "opfR9Imvd92d",
        "outputId": "b7f5e4f0-d189-4ed3-bbb3-2586aed56e12"
      },
      "execution_count": 5,
      "outputs": [
        {
          "output_type": "stream",
          "name": "stdout",
          "text": [
            "All elements are true: False\n"
          ]
        }
      ]
    },
    {
      "cell_type": "markdown",
      "source": [
        "List directories, files, and all contents of a specified path"
      ],
      "metadata": {
        "id": "dT1C5TfKer-l"
      }
    },
    {
      "cell_type": "code",
      "source": [
        "import os\n",
        "\n",
        "path = \".\"  # Change this to your target path\n",
        "print(\"Directories:\", [d for d in os.listdir(path) if os.path.isdir(os.path.join(path, d))])\n",
        "print(\"Files:\", [f for f in os.listdir(path) if os.path.isfile(os.path.join(path, f))])\n",
        "print(\"All contents:\", os.listdir(path))\n"
      ],
      "metadata": {
        "colab": {
          "base_uri": "https://localhost:8080/"
        },
        "id": "6S6PwNwQeCxd",
        "outputId": "00c2ad4e-f9bb-4d3c-a2b3-ec4a815796b3"
      },
      "execution_count": 6,
      "outputs": [
        {
          "output_type": "stream",
          "name": "stdout",
          "text": [
            "Directories: ['.config', 'sample_data']\n",
            "Files: []\n",
            "All contents: ['.config', 'sample_data']\n"
          ]
        }
      ]
    },
    {
      "cell_type": "markdown",
      "source": [
        "Check existence, readability, writability, and executability of a path"
      ],
      "metadata": {
        "id": "WhPW8PDuezMR"
      }
    },
    {
      "cell_type": "code",
      "source": [
        "import os\n",
        "\n",
        "path = \"example.txt\"  # Change this to your target path\n",
        "\n",
        "print(\"Exists:\", os.path.exists(path))\n",
        "print(\"Readable:\", os.access(path, os.R_OK))\n",
        "print(\"Writable:\", os.access(path, os.W_OK))\n",
        "print(\"Executable:\", os.access(path, os.X_OK))\n"
      ],
      "metadata": {
        "colab": {
          "base_uri": "https://localhost:8080/"
        },
        "id": "bftwDeRSeV_-",
        "outputId": "fd3f01bb-6391-4e95-8610-d0da23a39490"
      },
      "execution_count": 7,
      "outputs": [
        {
          "output_type": "stream",
          "name": "stdout",
          "text": [
            "Exists: False\n",
            "Readable: False\n",
            "Writable: False\n",
            "Executable: False\n"
          ]
        }
      ]
    },
    {
      "cell_type": "markdown",
      "source": [
        "Check if a path exists and get filename and directory"
      ],
      "metadata": {
        "id": "271ZX72Ye6c6"
      }
    },
    {
      "cell_type": "code",
      "source": [
        "import os\n",
        "\n",
        "path = \"example.txt\"  # Change this to your target path\n",
        "\n",
        "if os.path.exists(path):\n",
        "    print(\"Filename:\", os.path.basename(path))\n",
        "    print(\"Directory:\", os.path.dirname(path))\n",
        "else:\n",
        "    print(\"Path does not exist.\")\n"
      ],
      "metadata": {
        "colab": {
          "base_uri": "https://localhost:8080/"
        },
        "id": "rNwutY9feus7",
        "outputId": "99e790a6-60bb-4a14-e93b-7ec947b0dba5"
      },
      "execution_count": 8,
      "outputs": [
        {
          "output_type": "stream",
          "name": "stdout",
          "text": [
            "Path does not exist.\n"
          ]
        }
      ]
    },
    {
      "cell_type": "markdown",
      "source": [
        " Count the number of lines in a text file"
      ],
      "metadata": {
        "id": "xJSurYA3hyUV"
      }
    },
    {
      "cell_type": "code",
      "source": [
        "file_path = \"/Users/arlanzhaugashty/Desktop/text/example.txt\"  # Change to your target file\n",
        "\n",
        "with open(file_path, \"r\") as file:\n",
        "    lines = file.readlines()\n",
        "\n",
        "print(\"Number of lines:\", len(lines))\n"
      ],
      "metadata": {
        "colab": {
          "base_uri": "https://localhost:8080/",
          "height": 275
        },
        "id": "MfN4fVixe2ec",
        "outputId": "8ace566e-5704-4596-d537-841ad844f86e"
      },
      "execution_count": 17,
      "outputs": [
        {
          "output_type": "error",
          "ename": "FileNotFoundError",
          "evalue": "[Errno 2] No such file or directory: '/Users/arlanzhaugashty/Desktop/text/example.txt'",
          "traceback": [
            "\u001b[0;31m---------------------------------------------------------------------------\u001b[0m",
            "\u001b[0;31mFileNotFoundError\u001b[0m                         Traceback (most recent call last)",
            "\u001b[0;32m<ipython-input-17-3e34471175dc>\u001b[0m in \u001b[0;36m<cell line: 0>\u001b[0;34m()\u001b[0m\n\u001b[1;32m      1\u001b[0m \u001b[0mfile_path\u001b[0m \u001b[0;34m=\u001b[0m \u001b[0;34m\"/Users/arlanzhaugashty/Desktop/text/example.txt\"\u001b[0m  \u001b[0;31m# Change to your target file\u001b[0m\u001b[0;34m\u001b[0m\u001b[0;34m\u001b[0m\u001b[0m\n\u001b[1;32m      2\u001b[0m \u001b[0;34m\u001b[0m\u001b[0m\n\u001b[0;32m----> 3\u001b[0;31m \u001b[0;32mwith\u001b[0m \u001b[0mopen\u001b[0m\u001b[0;34m(\u001b[0m\u001b[0mfile_path\u001b[0m\u001b[0;34m,\u001b[0m \u001b[0;34m\"r\"\u001b[0m\u001b[0;34m)\u001b[0m \u001b[0;32mas\u001b[0m \u001b[0mfile\u001b[0m\u001b[0;34m:\u001b[0m\u001b[0;34m\u001b[0m\u001b[0;34m\u001b[0m\u001b[0m\n\u001b[0m\u001b[1;32m      4\u001b[0m     \u001b[0mlines\u001b[0m \u001b[0;34m=\u001b[0m \u001b[0mfile\u001b[0m\u001b[0;34m.\u001b[0m\u001b[0mreadlines\u001b[0m\u001b[0;34m(\u001b[0m\u001b[0;34m)\u001b[0m\u001b[0;34m\u001b[0m\u001b[0;34m\u001b[0m\u001b[0m\n\u001b[1;32m      5\u001b[0m \u001b[0;34m\u001b[0m\u001b[0m\n",
            "\u001b[0;31mFileNotFoundError\u001b[0m: [Errno 2] No such file or directory: '/Users/arlanzhaugashty/Desktop/text/example.txt'"
          ]
        }
      ]
    },
    {
      "cell_type": "markdown",
      "source": [
        "Write a list to a file"
      ],
      "metadata": {
        "id": "zw_fxdtvh3k_"
      }
    },
    {
      "cell_type": "code",
      "source": [
        "my_list = [\"apple\", \"banana\", \"cherry\"]\n",
        "\n",
        "with open(\"output.txt\", \"w\") as file:\n",
        "    for item in my_list:\n",
        "        file.write(item + \"\\n\")\n",
        "\n",
        "print(\"List written to output.txt\")\n"
      ],
      "metadata": {
        "colab": {
          "base_uri": "https://localhost:8080/"
        },
        "id": "uwgsVR2be92L",
        "outputId": "d5134521-b7a1-4ba1-e443-0f45d00d419b"
      },
      "execution_count": 18,
      "outputs": [
        {
          "output_type": "stream",
          "name": "stdout",
          "text": [
            "List written to output.txt\n"
          ]
        }
      ]
    },
    {
      "cell_type": "markdown",
      "source": [
        "Generate 26 text files named A.txt to Z.txt"
      ],
      "metadata": {
        "id": "ewGknr3zh9GL"
      }
    },
    {
      "cell_type": "code",
      "source": [
        "import string\n",
        "\n",
        "for letter in string.ascii_uppercase:\n",
        "    with open(f\"{letter}.txt\", \"w\") as file:\n",
        "        file.write(f\"This is {letter}.txt\")\n",
        "\n",
        "print(\"26 text files created.\")\n"
      ],
      "metadata": {
        "colab": {
          "base_uri": "https://localhost:8080/"
        },
        "id": "U3-B-nzwh5t5",
        "outputId": "4417e1bf-0975-42a8-815e-6030d7298b44"
      },
      "execution_count": 19,
      "outputs": [
        {
          "output_type": "stream",
          "name": "stdout",
          "text": [
            "26 text files created.\n"
          ]
        }
      ]
    },
    {
      "cell_type": "markdown",
      "source": [
        "Copy contents of one file to another"
      ],
      "metadata": {
        "id": "qB-nS7U8iC20"
      }
    },
    {
      "cell_type": "code",
      "source": [
        "import shutil\n",
        "\n",
        "source = \"example.txt\"  # Change to source file\n",
        "destination = \"copy_example.txt\"\n",
        "\n",
        "shutil.copy(source, destination)\n",
        "print(f\"Copied {source} to {destination}\")\n"
      ],
      "metadata": {
        "colab": {
          "base_uri": "https://localhost:8080/",
          "height": 367
        },
        "id": "tXj-mVHKh-2m",
        "outputId": "d22914ff-4b79-4275-ccfa-141bb83bee1f"
      },
      "execution_count": 20,
      "outputs": [
        {
          "output_type": "error",
          "ename": "FileNotFoundError",
          "evalue": "[Errno 2] No such file or directory: 'example.txt'",
          "traceback": [
            "\u001b[0;31m---------------------------------------------------------------------------\u001b[0m",
            "\u001b[0;31mFileNotFoundError\u001b[0m                         Traceback (most recent call last)",
            "\u001b[0;32m<ipython-input-20-3afe039ae651>\u001b[0m in \u001b[0;36m<cell line: 0>\u001b[0;34m()\u001b[0m\n\u001b[1;32m      4\u001b[0m \u001b[0mdestination\u001b[0m \u001b[0;34m=\u001b[0m \u001b[0;34m\"copy_example.txt\"\u001b[0m\u001b[0;34m\u001b[0m\u001b[0;34m\u001b[0m\u001b[0m\n\u001b[1;32m      5\u001b[0m \u001b[0;34m\u001b[0m\u001b[0m\n\u001b[0;32m----> 6\u001b[0;31m \u001b[0mshutil\u001b[0m\u001b[0;34m.\u001b[0m\u001b[0mcopy\u001b[0m\u001b[0;34m(\u001b[0m\u001b[0msource\u001b[0m\u001b[0;34m,\u001b[0m \u001b[0mdestination\u001b[0m\u001b[0;34m)\u001b[0m\u001b[0;34m\u001b[0m\u001b[0;34m\u001b[0m\u001b[0m\n\u001b[0m\u001b[1;32m      7\u001b[0m \u001b[0mprint\u001b[0m\u001b[0;34m(\u001b[0m\u001b[0;34mf\"Copied {source} to {destination}\"\u001b[0m\u001b[0;34m)\u001b[0m\u001b[0;34m\u001b[0m\u001b[0;34m\u001b[0m\u001b[0m\n",
            "\u001b[0;32m/usr/lib/python3.11/shutil.py\u001b[0m in \u001b[0;36mcopy\u001b[0;34m(src, dst, follow_symlinks)\u001b[0m\n\u001b[1;32m    429\u001b[0m     \u001b[0;32mif\u001b[0m \u001b[0mos\u001b[0m\u001b[0;34m.\u001b[0m\u001b[0mpath\u001b[0m\u001b[0;34m.\u001b[0m\u001b[0misdir\u001b[0m\u001b[0;34m(\u001b[0m\u001b[0mdst\u001b[0m\u001b[0;34m)\u001b[0m\u001b[0;34m:\u001b[0m\u001b[0;34m\u001b[0m\u001b[0;34m\u001b[0m\u001b[0m\n\u001b[1;32m    430\u001b[0m         \u001b[0mdst\u001b[0m \u001b[0;34m=\u001b[0m \u001b[0mos\u001b[0m\u001b[0;34m.\u001b[0m\u001b[0mpath\u001b[0m\u001b[0;34m.\u001b[0m\u001b[0mjoin\u001b[0m\u001b[0;34m(\u001b[0m\u001b[0mdst\u001b[0m\u001b[0;34m,\u001b[0m \u001b[0mos\u001b[0m\u001b[0;34m.\u001b[0m\u001b[0mpath\u001b[0m\u001b[0;34m.\u001b[0m\u001b[0mbasename\u001b[0m\u001b[0;34m(\u001b[0m\u001b[0msrc\u001b[0m\u001b[0;34m)\u001b[0m\u001b[0;34m)\u001b[0m\u001b[0;34m\u001b[0m\u001b[0;34m\u001b[0m\u001b[0m\n\u001b[0;32m--> 431\u001b[0;31m     \u001b[0mcopyfile\u001b[0m\u001b[0;34m(\u001b[0m\u001b[0msrc\u001b[0m\u001b[0;34m,\u001b[0m \u001b[0mdst\u001b[0m\u001b[0;34m,\u001b[0m \u001b[0mfollow_symlinks\u001b[0m\u001b[0;34m=\u001b[0m\u001b[0mfollow_symlinks\u001b[0m\u001b[0;34m)\u001b[0m\u001b[0;34m\u001b[0m\u001b[0;34m\u001b[0m\u001b[0m\n\u001b[0m\u001b[1;32m    432\u001b[0m     \u001b[0mcopymode\u001b[0m\u001b[0;34m(\u001b[0m\u001b[0msrc\u001b[0m\u001b[0;34m,\u001b[0m \u001b[0mdst\u001b[0m\u001b[0;34m,\u001b[0m \u001b[0mfollow_symlinks\u001b[0m\u001b[0;34m=\u001b[0m\u001b[0mfollow_symlinks\u001b[0m\u001b[0;34m)\u001b[0m\u001b[0;34m\u001b[0m\u001b[0;34m\u001b[0m\u001b[0m\n\u001b[1;32m    433\u001b[0m     \u001b[0;32mreturn\u001b[0m \u001b[0mdst\u001b[0m\u001b[0;34m\u001b[0m\u001b[0;34m\u001b[0m\u001b[0m\n",
            "\u001b[0;32m/usr/lib/python3.11/shutil.py\u001b[0m in \u001b[0;36mcopyfile\u001b[0;34m(src, dst, follow_symlinks)\u001b[0m\n\u001b[1;32m    254\u001b[0m         \u001b[0mos\u001b[0m\u001b[0;34m.\u001b[0m\u001b[0msymlink\u001b[0m\u001b[0;34m(\u001b[0m\u001b[0mos\u001b[0m\u001b[0;34m.\u001b[0m\u001b[0mreadlink\u001b[0m\u001b[0;34m(\u001b[0m\u001b[0msrc\u001b[0m\u001b[0;34m)\u001b[0m\u001b[0;34m,\u001b[0m \u001b[0mdst\u001b[0m\u001b[0;34m)\u001b[0m\u001b[0;34m\u001b[0m\u001b[0;34m\u001b[0m\u001b[0m\n\u001b[1;32m    255\u001b[0m     \u001b[0;32melse\u001b[0m\u001b[0;34m:\u001b[0m\u001b[0;34m\u001b[0m\u001b[0;34m\u001b[0m\u001b[0m\n\u001b[0;32m--> 256\u001b[0;31m         \u001b[0;32mwith\u001b[0m \u001b[0mopen\u001b[0m\u001b[0;34m(\u001b[0m\u001b[0msrc\u001b[0m\u001b[0;34m,\u001b[0m \u001b[0;34m'rb'\u001b[0m\u001b[0;34m)\u001b[0m \u001b[0;32mas\u001b[0m \u001b[0mfsrc\u001b[0m\u001b[0;34m:\u001b[0m\u001b[0;34m\u001b[0m\u001b[0;34m\u001b[0m\u001b[0m\n\u001b[0m\u001b[1;32m    257\u001b[0m             \u001b[0;32mtry\u001b[0m\u001b[0;34m:\u001b[0m\u001b[0;34m\u001b[0m\u001b[0;34m\u001b[0m\u001b[0m\n\u001b[1;32m    258\u001b[0m                 \u001b[0;32mwith\u001b[0m \u001b[0mopen\u001b[0m\u001b[0;34m(\u001b[0m\u001b[0mdst\u001b[0m\u001b[0;34m,\u001b[0m \u001b[0;34m'wb'\u001b[0m\u001b[0;34m)\u001b[0m \u001b[0;32mas\u001b[0m \u001b[0mfdst\u001b[0m\u001b[0;34m:\u001b[0m\u001b[0;34m\u001b[0m\u001b[0;34m\u001b[0m\u001b[0m\n",
            "\u001b[0;31mFileNotFoundError\u001b[0m: [Errno 2] No such file or directory: 'example.txt'"
          ]
        }
      ]
    },
    {
      "cell_type": "markdown",
      "source": [
        "Delete a file after checking its existence and access"
      ],
      "metadata": {
        "id": "fD-g9Gg1iIYm"
      }
    },
    {
      "cell_type": "code",
      "source": [
        "import os\n",
        "\n",
        "file_path = \"example.txt\"  # Change to the file you want to delete\n",
        "\n",
        "if os.path.exists(file_path) and os.access(file_path, os.W_OK):\n",
        "    os.remove(file_path)\n",
        "    print(f\"{file_path} deleted.\")\n",
        "else:\n",
        "    print(\"File does not exist or is not writable.\")\n"
      ],
      "metadata": {
        "colab": {
          "base_uri": "https://localhost:8080/"
        },
        "id": "Y7KqFARCiElu",
        "outputId": "0561ec8d-afb2-4bc9-9423-32fe1bcc9206"
      },
      "execution_count": 21,
      "outputs": [
        {
          "output_type": "stream",
          "name": "stdout",
          "text": [
            "File does not exist or is not writable.\n"
          ]
        }
      ]
    },
    {
      "cell_type": "code",
      "source": [],
      "metadata": {
        "id": "j2CroP6diLOQ"
      },
      "execution_count": null,
      "outputs": []
    }
  ]
}