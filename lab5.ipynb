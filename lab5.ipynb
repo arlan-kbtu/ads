{
  "nbformat": 4,
  "nbformat_minor": 0,
  "metadata": {
    "colab": {
      "provenance": [],
      "authorship_tag": "ABX9TyOkzFKOboOTkofvnxinvCxt",
      "include_colab_link": true
    },
    "kernelspec": {
      "name": "python3",
      "display_name": "Python 3"
    },
    "language_info": {
      "name": "python"
    }
  },
  "cells": [
    {
      "cell_type": "markdown",
      "metadata": {
        "id": "view-in-github",
        "colab_type": "text"
      },
      "source": [
        "<a href=\"https://colab.research.google.com/github/arlan-kbtu/ads/blob/master/lab5.ipynb\" target=\"_parent\"><img src=\"https://colab.research.google.com/assets/colab-badge.svg\" alt=\"Open In Colab\"/></a>"
      ]
    },
    {
      "cell_type": "code",
      "execution_count": 3,
      "metadata": {
        "colab": {
          "base_uri": "https://localhost:8080/"
        },
        "id": "03tFF3ec31n4",
        "outputId": "2608455a-f80f-4f1b-8718-2b97696c5047"
      },
      "outputs": [
        {
          "output_type": "stream",
          "name": "stdout",
          "text": [
            "True\n",
            "True\n",
            "['lower_case', 'test_string']\n",
            "['Test', 'Example', 'String']\n",
            "True\n",
            "Hello::world::This:is:a:test:\n",
            "SnakeCaseString\n",
            "['', 'Split', 'At', 'Upper', 'Case']\n",
            "Insert Spaces Before Capitals\n",
            "camel_case_example\n"
          ]
        }
      ],
      "source": [
        "import re\n",
        "\n",
        "# 1. Match a string with 'a' followed by zero or more 'b's\n",
        "def match_a_followed_by_b_zero_or_more(s):\n",
        "    return bool(re.fullmatch(r\"a[b]*\", s))\n",
        "\n",
        "# 2. Match a string with 'a' followed by two to three 'b's\n",
        "def match_a_followed_by_two_to_three_b(s):\n",
        "    return bool(re.fullmatch(r\"a[b]{2,3}\", s))\n",
        "\n",
        "# 3. Find sequences of lowercase letters joined with an underscore\n",
        "def find_lowercase_sequences(s):\n",
        "    return re.findall(r\"[a-z]+_[a-z]+\", s)\n",
        "\n",
        "# 4. Find sequences of one uppercase letter followed by lowercase letters\n",
        "def find_upper_followed_by_lower(s):\n",
        "    return re.findall(r\"[A-Z][a-z]+\", s)\n",
        "\n",
        "# 5. Match a string with 'a' followed by anything, ending in 'b'\n",
        "def match_a_followed_by_anything_ending_in_b(s):\n",
        "    return bool(re.fullmatch(r\"a.*b\", s))\n",
        "\n",
        "# 6. Replace all occurrences of space, comma, or dot with a colon\n",
        "def replace_with_colon(s):\n",
        "    return re.sub(r\"[ ,.]\", \":\", s)\n",
        "\n",
        "# 7. Convert snake case string to camel case\n",
        "def snake_to_camel(s):\n",
        "    return \"\".join(word.capitalize() for word in s.split(\"_\"))\n",
        "\n",
        "# 8. Split a string at uppercase letters\n",
        "def split_at_uppercase(s):\n",
        "    return re.split(r\"(?=[A-Z])\", s)\n",
        "\n",
        "# 9. Insert spaces between words starting with capital letters\n",
        "def insert_spaces_before_capitals(s):\n",
        "    return re.sub(r\"([A-Z])\", r\" \\1\", s).strip()\n",
        "\n",
        "# 10. Convert a camel case string to snake case\n",
        "def camel_to_snake(s):\n",
        "    return re.sub(r\"([a-z])([A-Z])\", r\"\\1_\\2\", s).lower()\n",
        "\n",
        "# Test cases\n",
        "test_strings = [\n",
        "    \"abbb\", \"abb\", \"a\", \"aBBBB\", \"lower_case_example\", \"TestExample\",\n",
        "    \"aXYZb\", \"Hello, world. This is a test.\", \"snake_case_string\",\n",
        "    \"CamelCaseExample\", \"SplitAtUpperCase\", \"InsertSpacesBeforeCapitals\"\n",
        "]\n",
        "\n",
        "print(match_a_followed_by_b_zero_or_more(\"abbb\"))  # True\n",
        "print(match_a_followed_by_two_to_three_b(\"abb\"))  # True\n",
        "print(find_lowercase_sequences(\"lower_case_example test_string\"))  # ['lower_case', 'test_string']\n",
        "print(find_upper_followed_by_lower(\"Test Example String\"))  # ['Test', 'Example', 'String']\n",
        "print(match_a_followed_by_anything_ending_in_b(\"aXYZb\"))  # True\n",
        "print(replace_with_colon(\"Hello, world. This is a test.\"))  # \"Hello::world::This:is:a:test:\"\n",
        "print(snake_to_camel(\"snake_case_string\"))  # \"SnakeCaseString\"\n",
        "print(split_at_uppercase(\"SplitAtUpperCase\"))  # ['Split', 'At', 'Upper', 'Case']\n",
        "print(insert_spaces_before_capitals(\"InsertSpacesBeforeCapitals\"))  # \"Insert Spaces Before Capitals\"\n",
        "print(camel_to_snake(\"CamelCaseExample\"))  # \"camel_case_example\"\n"
      ]
    },
    {
      "cell_type": "code",
      "source": [],
      "metadata": {
        "id": "VpOL0ZZW7caT"
      },
      "execution_count": null,
      "outputs": []
    }
  ]
}